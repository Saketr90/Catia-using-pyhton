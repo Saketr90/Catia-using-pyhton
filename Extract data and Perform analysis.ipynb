{
 "cells": [
  {
   "cell_type": "markdown",
   "id": "c70c70fd",
   "metadata": {},
   "source": [
    "### Python script that demonstrates how to extract data from CATIA models, perform analysis using NumPy and pandas, and visualize the results using matplotlib:"
   ]
  },
  {
   "cell_type": "code",
   "execution_count": null,
   "id": "83188332",
   "metadata": {},
   "outputs": [],
   "source": [
    "import win32com.client\n",
    "import numpy as np\n",
    "import pandas as pd\n",
    "import matplotlib.pyplot as plt\n",
    "\n",
    "# Connect to the CATIA application\n",
    "catia = win32com.client.Dispatch(\"CATIA.Application\")\n",
    "\n",
    "# Open the CATIA model\n",
    "document = catia.Documents.Open(\"my_catia_model.CATPart\")\n",
    "\n",
    "# Get the active part in the model\n",
    "part = catia.ActiveDocument.Part\n",
    "\n",
    "# Extract data from CATIA model (e.g., extract coordinates of points)\n",
    "points = part.HybridBodies.Item(\"Points\").HybridShapes\n",
    "\n",
    "coordinates = []\n",
    "for point in points:\n",
    "    coordinates.append(point.Point.GetCoordinates())\n",
    "\n",
    "# Convert the coordinates list to a NumPy array\n",
    "coordinates = np.array(coordinates)\n",
    "\n",
    "# Perform analysis using NumPy and pandas\n",
    "mean = np.mean(coordinates, axis=0)\n",
    "std_dev = np.std(coordinates, axis=0)\n",
    "\n",
    "# Create a DataFrame using pandas\n",
    "df = pd.DataFrame(coordinates, columns=['X', 'Y', 'Z'])\n",
    "\n",
    "# Visualize the results using matplotlib\n",
    "plt.figure(figsize=(10, 6))\n",
    "plt.scatter(df['X'], df['Y'], color='blue', label='Points')\n",
    "plt.scatter(mean[0], mean[1], color='red', label='Mean')\n",
    "plt.xlabel('X')\n",
    "plt.ylabel('Y')\n",
    "plt.title('CATIA Model Analysis')\n",
    "plt.legend()\n",
    "plt.grid(True)\n",
    "plt.show()\n",
    "\n",
    "# Close the CATIA document\n",
    "document.Close()"
   ]
  },
  {
   "cell_type": "code",
   "execution_count": null,
   "id": "618e5660",
   "metadata": {},
   "outputs": [],
   "source": []
  }
 ],
 "metadata": {
  "kernelspec": {
   "display_name": "Python 3 (ipykernel)",
   "language": "python",
   "name": "python3"
  },
  "language_info": {
   "codemirror_mode": {
    "name": "ipython",
    "version": 3
   },
   "file_extension": ".py",
   "mimetype": "text/x-python",
   "name": "python",
   "nbconvert_exporter": "python",
   "pygments_lexer": "ipython3",
   "version": "3.11.1"
  }
 },
 "nbformat": 4,
 "nbformat_minor": 5
}
