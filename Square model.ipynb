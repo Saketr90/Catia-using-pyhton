{
 "cells": [
  {
   "cell_type": "code",
   "execution_count": null,
   "id": "3a1f1d34",
   "metadata": {},
   "outputs": [],
   "source": [
    "Creation of a square geometry model in CATIA using Python"
   ]
  },
  {
   "cell_type": "code",
   "execution_count": null,
   "id": "2aae568a",
   "metadata": {},
   "outputs": [],
   "source": [
    "#Import the necessary modules:\n",
    "import win32com.client\n",
    "\n",
    "#Connect to the CATIA application:\n",
    "catia = win32com.client.Dispatch(\"CATIA.Application\")\n",
    "\n",
    "#Create a new CATIA document:\n",
    "document = catia.Documents.Add(\"Part\")\n",
    "part = document.Part\n",
    "\n",
    "#Create a sketch on the XY plane:\n",
    "factory2D = part.Factory2D\n",
    "xy_plane = part.OriginElements.PlaneXY\n",
    "sketch = part.Sketches.Add(xy_plane)\n",
    "\n",
    "#Define the square dimensions:\n",
    "side_length = 10  # Adjust the desired side length of the square\n",
    "\n",
    "#Create the square geometry:\n",
    "points = sketch.Points\n",
    "point1 = points.Add(side_length/2, side_length/2)\n",
    "point2 = points.Add(side_length/2, -side_length/2)\n",
    "point3 = points.Add(-side_length/2, -side_length/2)\n",
    "point4 = points.Add(-side_length/2, side_length/2)\n",
    "lines = sketch.Lines\n",
    "line1 = lines.AddBy2Points(point1, point2)\n",
    "line2 = lines.AddBy2Points(point2, point3)\n",
    "line3 = lines.AddBy2Points(point3, point4)\n",
    "line4 = lines.AddBy2Points(point4, point1)\n",
    "\n",
    "#Close the sketch:\n",
    "sketch.CloseEdition()\n",
    "\n",
    "#Pad the sketch to create the solid square:\n",
    "pad = part.ShapeFactory.AddNewPad(sketch, side_length)\n",
    "pad.EndExtent.Value = side_length  # Set the depth of the pad to the side length\n",
    "part.Update()\n",
    "\n",
    "#Save the CATIA model:\n",
    "document.SaveAs(\"catia_model.CATPart\")\n",
    "\n",
    "#Close the CATIA document:\n",
    "document.Close()"
   ]
  }
 ],
 "metadata": {
  "kernelspec": {
   "display_name": "Python 3 (ipykernel)",
   "language": "python",
   "name": "python3"
  },
  "language_info": {
   "codemirror_mode": {
    "name": "ipython",
    "version": 3
   },
   "file_extension": ".py",
   "mimetype": "text/x-python",
   "name": "python",
   "nbconvert_exporter": "python",
   "pygments_lexer": "ipython3",
   "version": "3.11.1"
  }
 },
 "nbformat": 4,
 "nbformat_minor": 5
}
